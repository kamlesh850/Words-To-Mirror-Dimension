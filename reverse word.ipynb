{
 "cells": [
  {
   "cell_type": "markdown",
   "id": "f9e53fae",
   "metadata": {},
   "source": [
    "REVERSE"
   ]
  },
  {
   "cell_type": "code",
   "execution_count": 2,
   "id": "c670be78",
   "metadata": {},
   "outputs": [
    {
     "name": "stdout",
     "output_type": "stream",
     "text": [
      "narak\n"
     ]
    }
   ],
   "source": [
    "s=(\"karan\")\n",
    "print(s[len(s)-1::-1])"
   ]
  },
  {
   "cell_type": "code",
   "execution_count": null,
   "id": "6b6b5457",
   "metadata": {},
   "outputs": [],
   "source": []
  }
 ],
 "metadata": {
  "kernelspec": {
   "display_name": "Python 3 (ipykernel)",
   "language": "python",
   "name": "python3"
  },
  "language_info": {
   "codemirror_mode": {
    "name": "ipython",
    "version": 3
   },
   "file_extension": ".py",
   "mimetype": "text/x-python",
   "name": "python",
   "nbconvert_exporter": "python",
   "pygments_lexer": "ipython3",
   "version": "3.10.0"
  }
 },
 "nbformat": 4,
 "nbformat_minor": 5
}
